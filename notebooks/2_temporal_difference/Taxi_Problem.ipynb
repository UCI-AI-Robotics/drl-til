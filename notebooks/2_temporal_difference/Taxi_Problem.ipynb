{
  "nbformat": 4,
  "nbformat_minor": 0,
  "metadata": {
    "colab": {
      "provenance": [],
      "gpuType": "T4"
    },
    "kernelspec": {
      "name": "python3",
      "display_name": "Python 3"
    },
    "language_info": {
      "name": "python"
    },
    "accelerator": "GPU"
  },
  "cells": [
    {
      "cell_type": "markdown",
      "source": [
        "# Taxi Problem\n",
        "\n",
        "### Getting Started\n",
        "\n",
        "Read the description of the environment in subsection 3.1 of [this paper](https://arxiv.org/pdf/cs/9905014.pdf).  You can verify that the description in the paper matches the OpenAI Gym environment by peeking at the code [here](https://github.com/openai/gym/blob/master/gym/envs/toy_text/taxi.py)."
      ],
      "metadata": {
        "id": "uEOLrcFzfB51"
      }
    },
    {
      "cell_type": "markdown",
      "source": [
        "### Instructions\n",
        "\n",
        "The repository contains three files:\n",
        "- `agent.py`: Develop your reinforcement learning agent here.  This is the only file that you should modify.\n",
        "- `monitor.py`: The `interact` function tests how well your agent learns from interaction with the environment.\n",
        "- `main.py`: Run this file in the terminal to check the performance of your agent."
      ],
      "metadata": {
        "id": "tgBXUB5RfHFr"
      }
    },
    {
      "cell_type": "markdown",
      "source": [
        "When you run `main.py`, the agent that you specify in `agent.py` interacts with the environment for 20,000 episodes.  The details of the interaction are specified in `monitor.py`, which returns two variables: `avg_rewards` and `best_avg_reward`.\n",
        "- `avg_rewards` is a deque where `avg_rewards[i]` is the average (undiscounted) return collected by the agent from episodes `i+1` to episode `i+100`, inclusive.  So, for instance, `avg_rewards[0]` is the average return collected by the agent over the first 100 episodes.\n",
        "- `best_avg_reward` is the largest entry in `avg_rewards`.  This is the final score that you should use when determining how well your agent performed in the task.\n",
        "\n",
        "Your assignment is to modify the `agents.py` file to improve the agent's performance.\n",
        "- Use the `__init__()` method to define any needed instance variables.  Currently, we define the number of actions available to the agent (`nA`) and initialize the action values (`Q`) to an empty dictionary of arrays.  Feel free to add more instance variables; for example, you may find it useful to define the value of epsilon if the agent uses an epsilon-greedy policy for selecting actions.\n",
        "- The `select_action()` method accepts the environment state as input and returns the agent's choice of action.  The default code that we have provided randomly selects an action.\n",
        "- The `step()` method accepts a (`state`, `action`, `reward`, `next_state`) tuple as input, along with the `done` variable, which is `True` if the episode has ended.  The default code (which you should certainly change!) increments the action value of the previous state-action pair by 1.  You should change this method to use the sampled tuple of experience to update the agent's knowledge of the problem.\n"
      ],
      "metadata": {
        "id": "FSaSOVqNfIb0"
      }
    },
    {
      "cell_type": "markdown",
      "source": [
        "> Once you have modified the function, you need only run `python main.py` to test your new agent.\n",
        "\n",
        "### **OpenAI Gym [defines \"solving\"](https://gym.openai.com/envs/Taxi-v1/) this task as getting average return of 9.7 over 100 consecutive trials.**"
      ],
      "metadata": {
        "id": "iRCiYzvXfP_4"
      }
    },
    {
      "cell_type": "code",
      "source": [
        "# @title\n",
        "!pip install gymnasium"
      ],
      "metadata": {
        "id": "4BJ2CHrgfUL3",
        "colab": {
          "base_uri": "https://localhost:8080/"
        },
        "outputId": "d8ffb96d-94cd-4a94-c05c-00fc44a2595f"
      },
      "execution_count": null,
      "outputs": [
        {
          "output_type": "stream",
          "name": "stdout",
          "text": [
            "Collecting gymnasium\n",
            "  Downloading gymnasium-1.0.0-py3-none-any.whl.metadata (9.5 kB)\n",
            "Requirement already satisfied: numpy>=1.21.0 in /usr/local/lib/python3.10/dist-packages (from gymnasium) (1.26.4)\n",
            "Requirement already satisfied: cloudpickle>=1.2.0 in /usr/local/lib/python3.10/dist-packages (from gymnasium) (3.1.0)\n",
            "Requirement already satisfied: typing-extensions>=4.3.0 in /usr/local/lib/python3.10/dist-packages (from gymnasium) (4.12.2)\n",
            "Collecting farama-notifications>=0.0.1 (from gymnasium)\n",
            "  Downloading Farama_Notifications-0.0.4-py3-none-any.whl.metadata (558 bytes)\n",
            "Downloading gymnasium-1.0.0-py3-none-any.whl (958 kB)\n",
            "\u001b[2K   \u001b[90m━━━━━━━━━━━━━━━━━━━━━━━━━━━━━━━━━━━━━━━━\u001b[0m \u001b[32m958.1/958.1 kB\u001b[0m \u001b[31m11.3 MB/s\u001b[0m eta \u001b[36m0:00:00\u001b[0m\n",
            "\u001b[?25hDownloading Farama_Notifications-0.0.4-py3-none-any.whl (2.5 kB)\n",
            "Installing collected packages: farama-notifications, gymnasium\n",
            "Successfully installed farama-notifications-0.0.4 gymnasium-1.0.0\n"
          ]
        }
      ]
    },
    {
      "cell_type": "code",
      "source": [
        "from collections import deque, defaultdict\n",
        "import gymnasium as gym\n",
        "import sys\n",
        "import math\n",
        "import numpy as np\n",
        "import matplotlib.pyplot as plt"
      ],
      "metadata": {
        "id": "Tlt5_1S3gOrm"
      },
      "execution_count": null,
      "outputs": []
    },
    {
      "cell_type": "markdown",
      "source": [
        "### Let's explore Taxi Env\n",
        "\n",
        "* reference link : [gym/taxi](https://github.com/openai/gym/blob/master/gym/envs/toy_text/taxi.py)"
      ],
      "metadata": {
        "id": "YSsscTechGAT"
      }
    },
    {
      "cell_type": "code",
      "source": [
        "env = gym.make('Taxi-v3')\n",
        "state, prob = env.reset()\n",
        "state, prob"
      ],
      "metadata": {
        "colab": {
          "base_uri": "https://localhost:8080/"
        },
        "id": "CoGkIUwxhV_o",
        "outputId": "7e90e0d5-3a76-49d6-8e92-fd6329594f0c"
      },
      "execution_count": null,
      "outputs": [
        {
          "output_type": "execute_result",
          "data": {
            "text/plain": [
              "(34, {'prob': 1.0, 'action_mask': array([1, 0, 0, 1, 0, 0], dtype=int8)})"
            ]
          },
          "metadata": {},
          "execution_count": 3
        }
      ]
    },
    {
      "cell_type": "code",
      "source": [
        "random_policy = np.random.choice(6)\n",
        "next_state, reward, done, _, prob = env.step(random_policy)\n",
        "next_state, reward, done"
      ],
      "metadata": {
        "colab": {
          "base_uri": "https://localhost:8080/"
        },
        "id": "0CcpLnz6jisS",
        "outputId": "c23385e9-bbfc-4932-e862-6a39a66e36f3"
      },
      "execution_count": null,
      "outputs": [
        {
          "output_type": "execute_result",
          "data": {
            "text/plain": [
              "(34, -1, False)"
            ]
          },
          "metadata": {},
          "execution_count": 4
        }
      ]
    },
    {
      "cell_type": "markdown",
      "source": [
        "## **Interact** Function from `monitor.py`\n",
        "\n"
      ],
      "metadata": {
        "id": "jcfHaGXYfy-3"
      }
    },
    {
      "cell_type": "code",
      "source": [
        "def interact(env, agent, num_episodes=20000, window=100):\n",
        "    \"\"\" Monitor agent's performance.\n",
        "\n",
        "    Params\n",
        "    ======\n",
        "    - env: instance of OpenAI Gym's Taxi-v1 environment\n",
        "    - agent: instance of class Agent (see Agent.py for details)\n",
        "    - num_episodes: number of episodes of agent-environment interaction\n",
        "    - window: number of episodes to consider when calculating average rewards\n",
        "\n",
        "    Returns\n",
        "    =======\n",
        "    - avg_rewards: deque containing average rewards\n",
        "    - best_avg_reward: largest value in the avg_rewards deque\n",
        "    \"\"\"\n",
        "    # initialize average rewards\n",
        "    avg_rewards = deque(maxlen=num_episodes)\n",
        "    # initialize best average reward\n",
        "    best_avg_reward = -math.inf\n",
        "    # initialize monitor for most recent rewards\n",
        "    samp_rewards = deque(maxlen=window)\n",
        "    # for each episode\n",
        "    for i_episode in range(1, num_episodes+1):\n",
        "        # begin the episode\n",
        "        state, prob = env.reset()\n",
        "        # initialize the sampled reward\n",
        "        samp_reward = 0\n",
        "        while True:\n",
        "            # agent selects an action\n",
        "            action = agent.select_action(state, i_episode)\n",
        "            # action = agent.select_action(state)\n",
        "            # agent performs the selected action\n",
        "            next_state, reward, done, _, prob = env.step(action)\n",
        "            # agent performs internal updates based on sampled experience\n",
        "            agent.step(state, action, reward, next_state, done)\n",
        "            # update the sampled reward\n",
        "            samp_reward += reward\n",
        "            # update the state (s <- s') to next time step\n",
        "            state = next_state\n",
        "            if done:\n",
        "                # save final sampled reward\n",
        "                samp_rewards.append(samp_reward)\n",
        "                break\n",
        "        if (i_episode >= 100):\n",
        "            # get average reward from last 100 episodes\n",
        "            avg_reward = np.mean(samp_rewards)\n",
        "            # append to deque\n",
        "            avg_rewards.append(avg_reward)\n",
        "            # update best average reward\n",
        "            if avg_reward > best_avg_reward:\n",
        "                best_avg_reward = avg_reward\n",
        "        # monitor progress\n",
        "        print(\"\\rEpisode {}/{} || Best average reward {}\".format(i_episode, num_episodes, best_avg_reward), end=\"\")\n",
        "        sys.stdout.flush()\n",
        "        # check if task is solved (according to OpenAI Gym)\n",
        "        if best_avg_reward >= 9.7:\n",
        "            print('\\nEnvironment solved in {} episodes.'.format(i_episode), end=\"\")\n",
        "            break\n",
        "        if i_episode == num_episodes: print('\\n')\n",
        "\n",
        "    # plot performance\n",
        "    plt.plot(np.linspace(0,num_episodes,len(avg_rewards),endpoint=False), np.asarray(avg_rewards))\n",
        "    plt.xlabel('Episode Number')\n",
        "    plt.ylabel('Average Reward (Over Next %d Episodes)' % 100)\n",
        "    plt.show()\n",
        "\n",
        "    return avg_rewards, best_avg_reward"
      ],
      "metadata": {
        "id": "dwpWUvEsfr-F"
      },
      "execution_count": null,
      "outputs": []
    },
    {
      "cell_type": "markdown",
      "source": [
        "## Agent class from `agent.py`"
      ],
      "metadata": {
        "id": "Bcn1f7RHf7o3"
      }
    },
    {
      "cell_type": "code",
      "source": [
        "class Agent:\n",
        "\n",
        "    def __init__(self, nA=6):\n",
        "        \"\"\" Initialize agent.\n",
        "\n",
        "        Params\n",
        "        ======\n",
        "        - nA: number of actions available to the agent\n",
        "        \"\"\"\n",
        "\n",
        "        self.nA = nA\n",
        "\n",
        "        # self.gamma = 1.0\n",
        "        self.gamma = 0.99\n",
        "        # self.alpha = 0.01\n",
        "        self.alpha = 0.2\n",
        "\n",
        "        self.Q = defaultdict(lambda: np.zeros(self.nA))\n",
        "\n",
        "    def select_action(self, state, i_episode):\n",
        "        \"\"\" Given the state, select an action.\n",
        "\n",
        "        Params\n",
        "        ======\n",
        "        - state: the current state of the environment\n",
        "\n",
        "        Returns\n",
        "        =======\n",
        "        - action: an integer, compatible with the task's action space\n",
        "        \"\"\"\n",
        "        # epsilon = 0.01\n",
        "        self.epsilon = (1.0 / i_episode)\n",
        "        Q_cur = self.Q[state]\n",
        "        A_s = len(Q_cur)\n",
        "        greedy_prob = np.ones(A_s) * self.epsilon / A_s\n",
        "        best_action = np.argmax(Q_cur)\n",
        "        greedy_prob[best_action] = 1 - self.epsilon + self.epsilon / A_s\n",
        "\n",
        "        return np.random.choice(np.arange(A_s), p=greedy_prob)\n",
        "\n",
        "    def step(self, state, action, reward, next_state, done):\n",
        "        \"\"\" Update the agent's knowledge, using the most recently sampled tuple.\n",
        "\n",
        "        Params\n",
        "        ======\n",
        "        - state: the previous state of the environment\n",
        "        - action: the agent's previous choice of action\n",
        "        - reward: last reward received\n",
        "        - next_state: the current state of the environment\n",
        "        - done: whether the episode is complete (True or False)\n",
        "        \"\"\"\n",
        "\n",
        "        if done:\n",
        "            self.Q[state][action] = self.Q[state][action] + self.alpha * (reward - self.Q[state][action])\n",
        "        else:\n",
        "            # Case1. SARSA\n",
        "            # a_t_1 = self.select_action(next_state)\n",
        "            # self.Q[state][action] += self.alpha * (reward + self.gamma * self.Q[next_state][a_t_1] - self.Q[state][action])\n",
        "\n",
        "            # # Case2. Q-learning\n",
        "            # self.Q[state][action] += self.alpha * (reward + self.gamma * np.max(self.Q[next_state]) - self.Q[state][action])\n",
        "\n",
        "            # # Case3. Expected Sarsa\n",
        "            Q_cur = self.Q[next_state]\n",
        "            A_s = len(Q_cur)\n",
        "            greedy_prob = np.ones(A_s) * self.epsilon / A_s\n",
        "            best_action = np.argmax(Q_cur)\n",
        "            greedy_prob[best_action] = 1 - self.epsilon + self.epsilon / A_s\n",
        "            self.Q[state][action] += self.alpha * (reward + self.gamma * np.sum(Q_cur * greedy_prob) - self.Q[state][action])"
      ],
      "metadata": {
        "id": "ZmHnzHLzgGfM"
      },
      "execution_count": null,
      "outputs": []
    },
    {
      "cell_type": "markdown",
      "source": [
        "## Finally, execute **main** code."
      ],
      "metadata": {
        "id": "v8WnEr6wgsCh"
      }
    },
    {
      "cell_type": "code",
      "source": [
        "env = gym.make('Taxi-v3')\n",
        "agent = Agent()\n",
        "avg_rewards, best_avg_reward = interact(env, agent, 2000)\n",
        "# avg_rewards, best_avg_reward = interact(env, agent, 20000)"
      ],
      "metadata": {
        "colab": {
          "base_uri": "https://localhost:8080/",
          "height": 485
        },
        "id": "--bjhL8Eg0rK",
        "outputId": "8418066f-d119-4f91-f344-06a15af55d75"
      },
      "execution_count": null,
      "outputs": [
        {
          "output_type": "stream",
          "name": "stdout",
          "text": [
            "Episode 2000/2000 || Best average reward 8.45\n",
            "\n"
          ]
        },
        {
          "output_type": "display_data",
          "data": {
            "text/plain": [
              "<Figure size 640x480 with 1 Axes>"
            ],
            "image/png": "[encoded data removed]"
          },
          "metadata": {}
        }
      ]
    },
    {
      "cell_type": "markdown",
      "source": [
        "OpenAI Gym defines \"solving\" this task as getting average return of 9.7 over 100 consecutive trials.\n"
      ],
      "metadata": {
        "id": "t7vLY1SWesL9"
      }
    }
  ]
}